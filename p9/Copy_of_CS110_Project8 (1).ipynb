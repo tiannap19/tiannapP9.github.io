{
  "nbformat": 4,
  "nbformat_minor": 0,
  "metadata": {
    "colab": {
      "provenance": []
    },
    "kernelspec": {
      "name": "python3",
      "display_name": "Python 3"
    },
    "language_info": {
      "name": "python"
    }
  },
  "cells": [
    {
      "cell_type": "markdown",
      "source": [
        "# **NOTE:** Use File > Save a copy in Drive to make a copy before doing anything else"
      ],
      "metadata": {
        "id": "67EnmE7UyvGQ"
      }
    },
    {
      "cell_type": "markdown",
      "source": [
        "# Project 8: Student Habits vs Academic Performance Analysis"
      ],
      "metadata": {
        "id": "k9inRDqsrzgH"
      }
    },
    {
      "cell_type": "markdown",
      "source": [
        "#### Overview"
      ],
      "metadata": {
        "id": "MG06QCn_wgm3"
      }
    },
    {
      "cell_type": "markdown",
      "source": [
        "This project analyzes the relationship between student lifestyle habits and academic performance using a comprehensive dataset from Kaggle. The dataset contains information about 1,000 students and includes 16 variables covering various aspects of student life, including study habits, social media usage, sleep patterns, diet quality, exercise frequency, and academic outcomes.\n",
        "\n",
        "The analysis focuses on understanding how different study patterns correlate with exam performance.The project demonstrates fundamental data analysis skills including data cleaning, statistical calculations, and comparative analysis using Python and pandas."
      ],
      "metadata": {
        "id": "5_LvU75Xw-NZ"
      }
    },
    {
      "cell_type": "code",
      "source": [
        "# Install dependencies as needed:\n",
        "# pip install kagglehub[pandas-datasets]\n",
        "import kagglehub\n",
        "from kagglehub import KaggleDatasetAdapter\n",
        "\n",
        "# Set the path to the file you'd like to load\n",
        "# Update file_path to point to the specific file within the dataset\n",
        "file_path = \"student_habits_performance.csv\"\n",
        "\n",
        "# Load the latest version\n",
        "df = kagglehub.load_dataset(\n",
        "  KaggleDatasetAdapter.PANDAS,\n",
        "  \"jayaantanaath/student-habits-vs-academic-performance\",\n",
        "  file_path,\n",
        "  # Provide any additional arguments like\n",
        "  # sql_query or pandas_kwargs. See the\n",
        "  # documenation for more information:\n",
        "  # https://github.com/Kaggle/kagglehub/blob/main/README.md#kaggledatasetadapterpandas\n",
        ")\n",
        "\n",
        "print(\"First 5 records:\", df.head())"
      ],
      "metadata": {
        "colab": {
          "base_uri": "https://localhost:8080/"
        },
        "id": "MximtRiH2K-V",
        "outputId": "4b5f47d3-1be7-4e03-d856-7f2c956f2b50"
      },
      "execution_count": null,
      "outputs": [
        {
          "output_type": "stream",
          "name": "stderr",
          "text": [
            "<ipython-input-1-9526af902db9>:11: DeprecationWarning: load_dataset is deprecated and will be removed in a future version.\n",
            "  df = kagglehub.load_dataset(\n"
          ]
        },
        {
          "output_type": "stream",
          "name": "stdout",
          "text": [
            "First 5 records:   student_id  age  gender  study_hours_per_day  social_media_hours  \\\n",
            "0      S1000   23  Female                  0.0                 1.2   \n",
            "1      S1001   20  Female                  6.9                 2.8   \n",
            "2      S1002   21    Male                  1.4                 3.1   \n",
            "3      S1003   23  Female                  1.0                 3.9   \n",
            "4      S1004   19  Female                  5.0                 4.4   \n",
            "\n",
            "   netflix_hours part_time_job  attendance_percentage  sleep_hours  \\\n",
            "0            1.1            No                   85.0          8.0   \n",
            "1            2.3            No                   97.3          4.6   \n",
            "2            1.3            No                   94.8          8.0   \n",
            "3            1.0            No                   71.0          9.2   \n",
            "4            0.5            No                   90.9          4.9   \n",
            "\n",
            "  diet_quality  exercise_frequency parental_education_level internet_quality  \\\n",
            "0         Fair                   6                   Master          Average   \n",
            "1         Good                   6              High School          Average   \n",
            "2         Poor                   1              High School             Poor   \n",
            "3         Poor                   4                   Master             Good   \n",
            "4         Fair                   3                   Master             Good   \n",
            "\n",
            "   mental_health_rating extracurricular_participation  exam_score  \n",
            "0                     8                           Yes        56.2  \n",
            "1                     8                            No       100.0  \n",
            "2                     1                            No        34.3  \n",
            "3                     1                           Yes        26.8  \n",
            "4                     1                            No        66.4  \n"
          ]
        }
      ]
    },
    {
      "cell_type": "code",
      "source": [
        "one_col = df['age']"
      ],
      "metadata": {
        "id": "kPZhne6uILDn"
      },
      "execution_count": null,
      "outputs": []
    },
    {
      "cell_type": "code",
      "source": [
        "type(one_col)"
      ],
      "metadata": {
        "colab": {
          "base_uri": "https://localhost:8080/",
          "height": 203
        },
        "id": "acozQawFIPAu",
        "outputId": "16f36059-92ef-43fc-dbae-bb64d2655ac5"
      },
      "execution_count": null,
      "outputs": [
        {
          "output_type": "execute_result",
          "data": {
            "text/plain": [
              "pandas.core.series.Series"
            ],
            "text/html": [
              "<div style=\"max-width:800px; border: 1px solid var(--colab-border-color);\"><style>\n",
              "      pre.function-repr-contents {\n",
              "        overflow-x: auto;\n",
              "        padding: 8px 12px;\n",
              "        max-height: 500px;\n",
              "      }\n",
              "\n",
              "      pre.function-repr-contents.function-repr-contents-collapsed {\n",
              "        cursor: pointer;\n",
              "        max-height: 100px;\n",
              "      }\n",
              "    </style>\n",
              "    <pre style=\"white-space: initial; background:\n",
              "         var(--colab-secondary-surface-color); padding: 8px 12px;\n",
              "         border-bottom: 1px solid var(--colab-border-color);\"><b>pandas.core.series.Series</b><br/>def __init__(data=None, index=None, dtype: Dtype | None=None, name=None, copy: bool | None=None, fastpath: bool | lib.NoDefault=lib.no_default) -&gt; None</pre><pre class=\"function-repr-contents function-repr-contents-collapsed\" style=\"\"><a class=\"filepath\" style=\"display:none\" href=\"#\">/usr/local/lib/python3.11/dist-packages/pandas/core/series.py</a>One-dimensional ndarray with axis labels (including time series).\n",
              "\n",
              "Labels need not be unique but must be a hashable type. The object\n",
              "supports both integer- and label-based indexing and provides a host of\n",
              "methods for performing operations involving the index. Statistical\n",
              "methods from ndarray have been overridden to automatically exclude\n",
              "missing data (currently represented as NaN).\n",
              "\n",
              "Operations between Series (+, -, /, \\*, \\*\\*) align values based on their\n",
              "associated index values-- they need not be the same length. The result\n",
              "index will be the sorted union of the two indexes.\n",
              "\n",
              "Parameters\n",
              "----------\n",
              "data : array-like, Iterable, dict, or scalar value\n",
              "    Contains data stored in Series. If data is a dict, argument order is\n",
              "    maintained.\n",
              "index : array-like or Index (1d)\n",
              "    Values must be hashable and have the same length as `data`.\n",
              "    Non-unique index values are allowed. Will default to\n",
              "    RangeIndex (0, 1, 2, ..., n) if not provided. If data is dict-like\n",
              "    and index is None, then the keys in the data are used as the index. If the\n",
              "    index is not None, the resulting Series is reindexed with the index values.\n",
              "dtype : str, numpy.dtype, or ExtensionDtype, optional\n",
              "    Data type for the output Series. If not specified, this will be\n",
              "    inferred from `data`.\n",
              "    See the :ref:`user guide &lt;basics.dtypes&gt;` for more usages.\n",
              "name : Hashable, default None\n",
              "    The name to give to the Series.\n",
              "copy : bool, default False\n",
              "    Copy input data. Only affects Series or 1d ndarray input. See examples.\n",
              "\n",
              "Notes\n",
              "-----\n",
              "Please reference the :ref:`User Guide &lt;basics.series&gt;` for more information.\n",
              "\n",
              "Examples\n",
              "--------\n",
              "Constructing Series from a dictionary with an Index specified\n",
              "\n",
              "&gt;&gt;&gt; d = {&#x27;a&#x27;: 1, &#x27;b&#x27;: 2, &#x27;c&#x27;: 3}\n",
              "&gt;&gt;&gt; ser = pd.Series(data=d, index=[&#x27;a&#x27;, &#x27;b&#x27;, &#x27;c&#x27;])\n",
              "&gt;&gt;&gt; ser\n",
              "a   1\n",
              "b   2\n",
              "c   3\n",
              "dtype: int64\n",
              "\n",
              "The keys of the dictionary match with the Index values, hence the Index\n",
              "values have no effect.\n",
              "\n",
              "&gt;&gt;&gt; d = {&#x27;a&#x27;: 1, &#x27;b&#x27;: 2, &#x27;c&#x27;: 3}\n",
              "&gt;&gt;&gt; ser = pd.Series(data=d, index=[&#x27;x&#x27;, &#x27;y&#x27;, &#x27;z&#x27;])\n",
              "&gt;&gt;&gt; ser\n",
              "x   NaN\n",
              "y   NaN\n",
              "z   NaN\n",
              "dtype: float64\n",
              "\n",
              "Note that the Index is first build with the keys from the dictionary.\n",
              "After this the Series is reindexed with the given Index values, hence we\n",
              "get all NaN as a result.\n",
              "\n",
              "Constructing Series from a list with `copy=False`.\n",
              "\n",
              "&gt;&gt;&gt; r = [1, 2]\n",
              "&gt;&gt;&gt; ser = pd.Series(r, copy=False)\n",
              "&gt;&gt;&gt; ser.iloc[0] = 999\n",
              "&gt;&gt;&gt; r\n",
              "[1, 2]\n",
              "&gt;&gt;&gt; ser\n",
              "0    999\n",
              "1      2\n",
              "dtype: int64\n",
              "\n",
              "Due to input data type the Series has a `copy` of\n",
              "the original data even though `copy=False`, so\n",
              "the data is unchanged.\n",
              "\n",
              "Constructing Series from a 1d ndarray with `copy=False`.\n",
              "\n",
              "&gt;&gt;&gt; r = np.array([1, 2])\n",
              "&gt;&gt;&gt; ser = pd.Series(r, copy=False)\n",
              "&gt;&gt;&gt; ser.iloc[0] = 999\n",
              "&gt;&gt;&gt; r\n",
              "array([999,   2])\n",
              "&gt;&gt;&gt; ser\n",
              "0    999\n",
              "1      2\n",
              "dtype: int64\n",
              "\n",
              "Due to input data type the Series has a `view` on\n",
              "the original data, so\n",
              "the data is changed as well.</pre>\n",
              "      <script>\n",
              "      if (google.colab.kernel.accessAllowed && google.colab.files && google.colab.files.view) {\n",
              "        for (const element of document.querySelectorAll('.filepath')) {\n",
              "          element.style.display = 'block'\n",
              "          element.onclick = (event) => {\n",
              "            event.preventDefault();\n",
              "            event.stopPropagation();\n",
              "            google.colab.files.view(element.textContent, 263);\n",
              "          };\n",
              "        }\n",
              "      }\n",
              "      for (const element of document.querySelectorAll('.function-repr-contents')) {\n",
              "        element.onclick = (event) => {\n",
              "          event.preventDefault();\n",
              "          event.stopPropagation();\n",
              "          element.classList.toggle('function-repr-contents-collapsed');\n",
              "        };\n",
              "      }\n",
              "      </script>\n",
              "      </div>"
            ]
          },
          "metadata": {},
          "execution_count": 3
        }
      ]
    },
    {
      "cell_type": "code",
      "source": [
        "df.info()"
      ],
      "metadata": {
        "colab": {
          "base_uri": "https://localhost:8080/"
        },
        "id": "5PpwVc4y295F",
        "outputId": "7ed39cef-e9d4-404d-cdb8-19839d84b196"
      },
      "execution_count": null,
      "outputs": [
        {
          "output_type": "stream",
          "name": "stdout",
          "text": [
            "<class 'pandas.core.frame.DataFrame'>\n",
            "RangeIndex: 1000 entries, 0 to 999\n",
            "Data columns (total 16 columns):\n",
            " #   Column                         Non-Null Count  Dtype  \n",
            "---  ------                         --------------  -----  \n",
            " 0   student_id                     1000 non-null   object \n",
            " 1   age                            1000 non-null   int64  \n",
            " 2   gender                         1000 non-null   object \n",
            " 3   study_hours_per_day            1000 non-null   float64\n",
            " 4   social_media_hours             1000 non-null   float64\n",
            " 5   netflix_hours                  1000 non-null   float64\n",
            " 6   part_time_job                  1000 non-null   object \n",
            " 7   attendance_percentage          1000 non-null   float64\n",
            " 8   sleep_hours                    1000 non-null   float64\n",
            " 9   diet_quality                   1000 non-null   object \n",
            " 10  exercise_frequency             1000 non-null   int64  \n",
            " 11  parental_education_level       909 non-null    object \n",
            " 12  internet_quality               1000 non-null   object \n",
            " 13  mental_health_rating           1000 non-null   int64  \n",
            " 14  extracurricular_participation  1000 non-null   object \n",
            " 15  exam_score                     1000 non-null   float64\n",
            "dtypes: float64(6), int64(3), object(7)\n",
            "memory usage: 125.1+ KB\n"
          ]
        }
      ]
    },
    {
      "cell_type": "code",
      "source": [
        "df.shape"
      ],
      "metadata": {
        "colab": {
          "base_uri": "https://localhost:8080/"
        },
        "id": "SqFCmWs2259S",
        "outputId": "2a7f334e-9025-4100-c449-1c6e81167740"
      },
      "execution_count": null,
      "outputs": [
        {
          "output_type": "execute_result",
          "data": {
            "text/plain": [
              "(1000, 16)"
            ]
          },
          "metadata": {},
          "execution_count": 5
        }
      ]
    },
    {
      "cell_type": "code",
      "source": [
        "df.columns"
      ],
      "metadata": {
        "colab": {
          "base_uri": "https://localhost:8080/"
        },
        "id": "zw4k9vaQ27YW",
        "outputId": "9bdbbf70-3d12-41c1-839f-eabe1f26e87f"
      },
      "execution_count": null,
      "outputs": [
        {
          "output_type": "execute_result",
          "data": {
            "text/plain": [
              "Index(['student_id', 'age', 'gender', 'study_hours_per_day',\n",
              "       'social_media_hours', 'netflix_hours', 'part_time_job',\n",
              "       'attendance_percentage', 'sleep_hours', 'diet_quality',\n",
              "       'exercise_frequency', 'parental_education_level', 'internet_quality',\n",
              "       'mental_health_rating', 'extracurricular_participation', 'exam_score'],\n",
              "      dtype='object')"
            ]
          },
          "metadata": {},
          "execution_count": 6
        }
      ]
    },
    {
      "cell_type": "markdown",
      "source": [
        "### clean the data"
      ],
      "metadata": {
        "id": "ArLKTW8Y3NII"
      }
    },
    {
      "cell_type": "code",
      "source": [
        "df.isnull().sum()"
      ],
      "metadata": {
        "colab": {
          "base_uri": "https://localhost:8080/",
          "height": 579
        },
        "id": "omXaY3f43Do-",
        "outputId": "eea144b1-0645-4755-d656-cb24fdc12293"
      },
      "execution_count": null,
      "outputs": [
        {
          "output_type": "execute_result",
          "data": {
            "text/plain": [
              "student_id                        0\n",
              "age                               0\n",
              "gender                            0\n",
              "study_hours_per_day               0\n",
              "social_media_hours                0\n",
              "netflix_hours                     0\n",
              "part_time_job                     0\n",
              "attendance_percentage             0\n",
              "sleep_hours                       0\n",
              "diet_quality                      0\n",
              "exercise_frequency                0\n",
              "parental_education_level         91\n",
              "internet_quality                  0\n",
              "mental_health_rating              0\n",
              "extracurricular_participation     0\n",
              "exam_score                        0\n",
              "dtype: int64"
            ],
            "text/html": [
              "<div>\n",
              "<style scoped>\n",
              "    .dataframe tbody tr th:only-of-type {\n",
              "        vertical-align: middle;\n",
              "    }\n",
              "\n",
              "    .dataframe tbody tr th {\n",
              "        vertical-align: top;\n",
              "    }\n",
              "\n",
              "    .dataframe thead th {\n",
              "        text-align: right;\n",
              "    }\n",
              "</style>\n",
              "<table border=\"1\" class=\"dataframe\">\n",
              "  <thead>\n",
              "    <tr style=\"text-align: right;\">\n",
              "      <th></th>\n",
              "      <th>0</th>\n",
              "    </tr>\n",
              "  </thead>\n",
              "  <tbody>\n",
              "    <tr>\n",
              "      <th>student_id</th>\n",
              "      <td>0</td>\n",
              "    </tr>\n",
              "    <tr>\n",
              "      <th>age</th>\n",
              "      <td>0</td>\n",
              "    </tr>\n",
              "    <tr>\n",
              "      <th>gender</th>\n",
              "      <td>0</td>\n",
              "    </tr>\n",
              "    <tr>\n",
              "      <th>study_hours_per_day</th>\n",
              "      <td>0</td>\n",
              "    </tr>\n",
              "    <tr>\n",
              "      <th>social_media_hours</th>\n",
              "      <td>0</td>\n",
              "    </tr>\n",
              "    <tr>\n",
              "      <th>netflix_hours</th>\n",
              "      <td>0</td>\n",
              "    </tr>\n",
              "    <tr>\n",
              "      <th>part_time_job</th>\n",
              "      <td>0</td>\n",
              "    </tr>\n",
              "    <tr>\n",
              "      <th>attendance_percentage</th>\n",
              "      <td>0</td>\n",
              "    </tr>\n",
              "    <tr>\n",
              "      <th>sleep_hours</th>\n",
              "      <td>0</td>\n",
              "    </tr>\n",
              "    <tr>\n",
              "      <th>diet_quality</th>\n",
              "      <td>0</td>\n",
              "    </tr>\n",
              "    <tr>\n",
              "      <th>exercise_frequency</th>\n",
              "      <td>0</td>\n",
              "    </tr>\n",
              "    <tr>\n",
              "      <th>parental_education_level</th>\n",
              "      <td>91</td>\n",
              "    </tr>\n",
              "    <tr>\n",
              "      <th>internet_quality</th>\n",
              "      <td>0</td>\n",
              "    </tr>\n",
              "    <tr>\n",
              "      <th>mental_health_rating</th>\n",
              "      <td>0</td>\n",
              "    </tr>\n",
              "    <tr>\n",
              "      <th>extracurricular_participation</th>\n",
              "      <td>0</td>\n",
              "    </tr>\n",
              "    <tr>\n",
              "      <th>exam_score</th>\n",
              "      <td>0</td>\n",
              "    </tr>\n",
              "  </tbody>\n",
              "</table>\n",
              "</div><br><label><b>dtype:</b> int64</label>"
            ]
          },
          "metadata": {},
          "execution_count": 7
        }
      ]
    },
    {
      "cell_type": "markdown",
      "source": [
        "This checks how many missing (NaN) values are in each column of the DataFrame. Based on the output:\n",
        "\n",
        "All columns have 0 missing values except for parental_education_level, which has 91 missing values."
      ],
      "metadata": {
        "id": "0PvO8lB_3eTF"
      }
    },
    {
      "cell_type": "markdown",
      "source": [
        "The dataset is mostly clean, but you do need to clean or handle the missing data in the parental_education_level column."
      ],
      "metadata": {
        "id": "Una6tw9b3fXp"
      }
    },
    {
      "cell_type": "markdown",
      "source": [
        "#### Fill with a default or common value"
      ],
      "metadata": {
        "id": "y1c_nKOM3zpO"
      }
    },
    {
      "cell_type": "markdown",
      "source": [
        "#### drop rows with missing values"
      ],
      "metadata": {
        "id": "zGCqWwoD3h3R"
      }
    },
    {
      "cell_type": "code",
      "source": [
        "df.dropna(subset=['parental_education_level'], inplace=True)\n"
      ],
      "metadata": {
        "id": "lrKFMyll3piC"
      },
      "execution_count": null,
      "outputs": []
    },
    {
      "cell_type": "code",
      "source": [
        "# checking the data again\n",
        "df.isnull().sum()"
      ],
      "metadata": {
        "colab": {
          "base_uri": "https://localhost:8080/",
          "height": 579
        },
        "id": "mPCSuas25wMj",
        "outputId": "d328ec13-2860-4ad2-a032-1a84a83a7b63"
      },
      "execution_count": null,
      "outputs": [
        {
          "output_type": "execute_result",
          "data": {
            "text/plain": [
              "student_id                       0\n",
              "age                              0\n",
              "gender                           0\n",
              "study_hours_per_day              0\n",
              "social_media_hours               0\n",
              "netflix_hours                    0\n",
              "part_time_job                    0\n",
              "attendance_percentage            0\n",
              "sleep_hours                      0\n",
              "diet_quality                     0\n",
              "exercise_frequency               0\n",
              "parental_education_level         0\n",
              "internet_quality                 0\n",
              "mental_health_rating             0\n",
              "extracurricular_participation    0\n",
              "exam_score                       0\n",
              "dtype: int64"
            ],
            "text/html": [
              "<div>\n",
              "<style scoped>\n",
              "    .dataframe tbody tr th:only-of-type {\n",
              "        vertical-align: middle;\n",
              "    }\n",
              "\n",
              "    .dataframe tbody tr th {\n",
              "        vertical-align: top;\n",
              "    }\n",
              "\n",
              "    .dataframe thead th {\n",
              "        text-align: right;\n",
              "    }\n",
              "</style>\n",
              "<table border=\"1\" class=\"dataframe\">\n",
              "  <thead>\n",
              "    <tr style=\"text-align: right;\">\n",
              "      <th></th>\n",
              "      <th>0</th>\n",
              "    </tr>\n",
              "  </thead>\n",
              "  <tbody>\n",
              "    <tr>\n",
              "      <th>student_id</th>\n",
              "      <td>0</td>\n",
              "    </tr>\n",
              "    <tr>\n",
              "      <th>age</th>\n",
              "      <td>0</td>\n",
              "    </tr>\n",
              "    <tr>\n",
              "      <th>gender</th>\n",
              "      <td>0</td>\n",
              "    </tr>\n",
              "    <tr>\n",
              "      <th>study_hours_per_day</th>\n",
              "      <td>0</td>\n",
              "    </tr>\n",
              "    <tr>\n",
              "      <th>social_media_hours</th>\n",
              "      <td>0</td>\n",
              "    </tr>\n",
              "    <tr>\n",
              "      <th>netflix_hours</th>\n",
              "      <td>0</td>\n",
              "    </tr>\n",
              "    <tr>\n",
              "      <th>part_time_job</th>\n",
              "      <td>0</td>\n",
              "    </tr>\n",
              "    <tr>\n",
              "      <th>attendance_percentage</th>\n",
              "      <td>0</td>\n",
              "    </tr>\n",
              "    <tr>\n",
              "      <th>sleep_hours</th>\n",
              "      <td>0</td>\n",
              "    </tr>\n",
              "    <tr>\n",
              "      <th>diet_quality</th>\n",
              "      <td>0</td>\n",
              "    </tr>\n",
              "    <tr>\n",
              "      <th>exercise_frequency</th>\n",
              "      <td>0</td>\n",
              "    </tr>\n",
              "    <tr>\n",
              "      <th>parental_education_level</th>\n",
              "      <td>0</td>\n",
              "    </tr>\n",
              "    <tr>\n",
              "      <th>internet_quality</th>\n",
              "      <td>0</td>\n",
              "    </tr>\n",
              "    <tr>\n",
              "      <th>mental_health_rating</th>\n",
              "      <td>0</td>\n",
              "    </tr>\n",
              "    <tr>\n",
              "      <th>extracurricular_participation</th>\n",
              "      <td>0</td>\n",
              "    </tr>\n",
              "    <tr>\n",
              "      <th>exam_score</th>\n",
              "      <td>0</td>\n",
              "    </tr>\n",
              "  </tbody>\n",
              "</table>\n",
              "</div><br><label><b>dtype:</b> int64</label>"
            ]
          },
          "metadata": {},
          "execution_count": 9
        }
      ]
    },
    {
      "cell_type": "markdown",
      "source": [
        "### Questions to Answer\n",
        "\n",
        "Please find the answer for the following questoins."
      ],
      "metadata": {
        "id": "2yE2YtA_r3ds"
      }
    },
    {
      "cell_type": "markdown",
      "source": [
        "1. Find the average study hours per day for all students. Please create a code cell below this to answer the question.(0.5 point)"
      ],
      "metadata": {
        "id": "sgGW30Qvr_FD"
      }
    },
    {
      "cell_type": "code",
      "source": [
        "# prompt: Find the average study hours per day for all students\n",
        "\n",
        "average_study_hours = df['study_hours_per_day'].mean()\n",
        "print(f\"The average study hours per day for all students is: {average_study_hours:.2f}\")"
      ],
      "metadata": {
        "colab": {
          "base_uri": "https://localhost:8080/"
        },
        "id": "32IADs1w3tOV",
        "outputId": "a38c5a58-a8e4-4376-a996-8b80a39fbc2b"
      },
      "execution_count": null,
      "outputs": [
        {
          "output_type": "stream",
          "name": "stdout",
          "text": [
            "The average study hours per day for all students is: 3.54\n"
          ]
        }
      ]
    },
    {
      "cell_type": "markdown",
      "source": [
        "2. Identify the student who studies MOST hours per day. Please create a code cell below to answer the question.(0.5 point)"
      ],
      "metadata": {
        "id": "lUoQnqklspQh"
      }
    },
    {
      "cell_type": "code",
      "source": [
        "# prompt: Identify the student who studies MOST hours per day.\n",
        "\n",
        "# Find the row with the maximum study hours per day\n",
        "student_most_study_hours = df.loc[df['study_hours_per_day'].idxmax()]\n",
        "\n",
        "print(\"Student with the most study hours per day:\")\n",
        "student_most_study_hours"
      ],
      "metadata": {
        "colab": {
          "base_uri": "https://localhost:8080/",
          "height": 596
        },
        "id": "klxsgbkg3zKo",
        "outputId": "ef08e8ff-0dce-455f-afb0-7679c9ae9d6b"
      },
      "execution_count": null,
      "outputs": [
        {
          "output_type": "stream",
          "name": "stdout",
          "text": [
            "Student with the most study hours per day:\n"
          ]
        },
        {
          "output_type": "execute_result",
          "data": {
            "text/plain": [
              "student_id                             S1455\n",
              "age                                       19\n",
              "gender                                  Male\n",
              "study_hours_per_day                      8.3\n",
              "social_media_hours                       3.3\n",
              "netflix_hours                            2.6\n",
              "part_time_job                            Yes\n",
              "attendance_percentage                   86.6\n",
              "sleep_hours                              6.5\n",
              "diet_quality                            Fair\n",
              "exercise_frequency                         5\n",
              "parental_education_level         High School\n",
              "internet_quality                     Average\n",
              "mental_health_rating                       9\n",
              "extracurricular_participation             No\n",
              "exam_score                             100.0\n",
              "Name: 455, dtype: object"
            ],
            "text/html": [
              "<div>\n",
              "<style scoped>\n",
              "    .dataframe tbody tr th:only-of-type {\n",
              "        vertical-align: middle;\n",
              "    }\n",
              "\n",
              "    .dataframe tbody tr th {\n",
              "        vertical-align: top;\n",
              "    }\n",
              "\n",
              "    .dataframe thead th {\n",
              "        text-align: right;\n",
              "    }\n",
              "</style>\n",
              "<table border=\"1\" class=\"dataframe\">\n",
              "  <thead>\n",
              "    <tr style=\"text-align: right;\">\n",
              "      <th></th>\n",
              "      <th>455</th>\n",
              "    </tr>\n",
              "  </thead>\n",
              "  <tbody>\n",
              "    <tr>\n",
              "      <th>student_id</th>\n",
              "      <td>S1455</td>\n",
              "    </tr>\n",
              "    <tr>\n",
              "      <th>age</th>\n",
              "      <td>19</td>\n",
              "    </tr>\n",
              "    <tr>\n",
              "      <th>gender</th>\n",
              "      <td>Male</td>\n",
              "    </tr>\n",
              "    <tr>\n",
              "      <th>study_hours_per_day</th>\n",
              "      <td>8.3</td>\n",
              "    </tr>\n",
              "    <tr>\n",
              "      <th>social_media_hours</th>\n",
              "      <td>3.3</td>\n",
              "    </tr>\n",
              "    <tr>\n",
              "      <th>netflix_hours</th>\n",
              "      <td>2.6</td>\n",
              "    </tr>\n",
              "    <tr>\n",
              "      <th>part_time_job</th>\n",
              "      <td>Yes</td>\n",
              "    </tr>\n",
              "    <tr>\n",
              "      <th>attendance_percentage</th>\n",
              "      <td>86.6</td>\n",
              "    </tr>\n",
              "    <tr>\n",
              "      <th>sleep_hours</th>\n",
              "      <td>6.5</td>\n",
              "    </tr>\n",
              "    <tr>\n",
              "      <th>diet_quality</th>\n",
              "      <td>Fair</td>\n",
              "    </tr>\n",
              "    <tr>\n",
              "      <th>exercise_frequency</th>\n",
              "      <td>5</td>\n",
              "    </tr>\n",
              "    <tr>\n",
              "      <th>parental_education_level</th>\n",
              "      <td>High School</td>\n",
              "    </tr>\n",
              "    <tr>\n",
              "      <th>internet_quality</th>\n",
              "      <td>Average</td>\n",
              "    </tr>\n",
              "    <tr>\n",
              "      <th>mental_health_rating</th>\n",
              "      <td>9</td>\n",
              "    </tr>\n",
              "    <tr>\n",
              "      <th>extracurricular_participation</th>\n",
              "      <td>No</td>\n",
              "    </tr>\n",
              "    <tr>\n",
              "      <th>exam_score</th>\n",
              "      <td>100.0</td>\n",
              "    </tr>\n",
              "  </tbody>\n",
              "</table>\n",
              "</div><br><label><b>dtype:</b> object</label>"
            ]
          },
          "metadata": {},
          "execution_count": 18
        }
      ]
    },
    {
      "cell_type": "markdown",
      "source": [
        "3. Count how many students study more than 6 hours per day. Please create a code cell below this to answer the question.(0.5 point)"
      ],
      "metadata": {
        "id": "JBGkxjPMtBR3"
      }
    },
    {
      "cell_type": "code",
      "source": [
        "# prompt: Count how many students study more than 6 hours per day\n",
        "\n",
        "# Filter the DataFrame to include only students who study more than 6 hours per day\n",
        "students_more_than_6_hours = df[df['study_hours_per_day'] > 6]\n",
        "\n",
        "# Count the number of students in the filtered DataFrame\n",
        "count_students_more_than_6_hours = students_more_than_6_hours.shape[0]\n",
        "\n",
        "print(f\"The number of students who study more than 6 hours per day is: {count_students_more_than_6_hours}\")"
      ],
      "metadata": {
        "colab": {
          "base_uri": "https://localhost:8080/"
        },
        "id": "ix89kktI35VH",
        "outputId": "5b0789c5-0d00-450d-bb71-21ffcc925ea6"
      },
      "execution_count": null,
      "outputs": [
        {
          "output_type": "stream",
          "name": "stdout",
          "text": [
            "The number of students who study more than 6 hours per day is: 40\n"
          ]
        }
      ]
    },
    {
      "cell_type": "markdown",
      "source": [
        "4. What is the percentage of students who study more than 6 hours per day. Please create a code cell below this to answer the question.(0.5 point)"
      ],
      "metadata": {
        "id": "y53oBYVWtV9Y"
      }
    },
    {
      "cell_type": "code",
      "source": [
        "# prompt: What is the percentage of students who study more than 6 hours per day.\n",
        "\n",
        "# Calculate the total number of students\n",
        "total_students = df.shape[0]\n",
        "\n",
        "# Calculate the percentage of students who study more than 6 hours per day\n",
        "percentage_students_more_than_6_hours = (count_students_more_than_6_hours / total_students) * 100\n",
        "\n",
        "print(f\"The percentage of students who study more than 6 hours per day is: {percentage_students_more_than_6_hours:.2f}%\")"
      ],
      "metadata": {
        "colab": {
          "base_uri": "https://localhost:8080/"
        },
        "id": "XIOLTaDo3_Hj",
        "outputId": "a1938dec-aa3f-4ff3-8f66-d4c98f64020c"
      },
      "execution_count": null,
      "outputs": [
        {
          "output_type": "stream",
          "name": "stdout",
          "text": [
            "The percentage of students who study more than 6 hours per day is: 4.40%\n"
          ]
        }
      ]
    },
    {
      "cell_type": "markdown",
      "source": [
        "5. Calculate what percentage of students study less than 2 hours per day. Please create a code cell below this to answer the question.(0.5 point)"
      ],
      "metadata": {
        "id": "2VksRzuQtlkw"
      }
    },
    {
      "cell_type": "code",
      "source": [
        "# prompt: Calculate what percentage of students study less than 2 hours per day.\n",
        "\n",
        "# Filter the DataFrame to include only students who study less than 2 hours per day\n",
        "students_less_than_2_hours = df[df['study_hours_per_day'] < 2]\n",
        "\n",
        "# Count the number of students in the filtered DataFrame\n",
        "count_students_less_than_2_hours = students_less_than_2_hours.shape[0]\n",
        "\n",
        "# Calculate the total number of students\n",
        "total_students = df.shape[0]\n",
        "\n",
        "# Calculate the percentage of students who study less than 2 hours per day\n",
        "percentage_students_less_than_2_hours = (count_students_less_than_2_hours / total_students) * 100\n",
        "\n",
        "print(f\"The percentage of students who study less than 2 hours per day is: {percentage_students_less_than_2_hours:.2f}%\")"
      ],
      "metadata": {
        "colab": {
          "base_uri": "https://localhost:8080/"
        },
        "id": "nOl53IUY4ERu",
        "outputId": "dd87a740-72f5-48d7-813e-e232b6ca785c"
      },
      "execution_count": null,
      "outputs": [
        {
          "output_type": "stream",
          "name": "stdout",
          "text": [
            "The percentage of students who study less than 2 hours per day is: 13.53%\n"
          ]
        }
      ]
    },
    {
      "cell_type": "markdown",
      "source": [
        "6. Do students who study more than 5 hours per day have higher exam scores on average? Please create a code cell below to answer this question. (0.5 point)"
      ],
      "metadata": {
        "id": "hcjzS2BzuO6U"
      }
    },
    {
      "cell_type": "code",
      "source": [
        "# prompt: Do students who study more than 5 hours per day have higher exam scores on average?\n",
        "\n",
        "# Separate students into two groups: those who study more than 5 hours and those who don't\n",
        "students_more_than_5_hours = df[df['study_hours_per_day'] > 5]\n",
        "students_5_hours_or_less = df[df['study_hours_per_day'] <= 5]\n",
        "\n",
        "# Calculate the average exam score for each group\n",
        "average_exam_score_more_than_5_hours = students_more_than_5_hours['exam_score'].mean()\n",
        "average_exam_score_5_hours_or_less = students_5_hours_or_less['exam_score'].mean()\n",
        "\n",
        "print(f\"Average exam score for students studying more than 5 hours per day: {average_exam_score_more_than_5_hours:.2f}\")\n",
        "print(f\"Average exam score for students studying 5 hours or less per day: {average_exam_score_5_hours_or_less:.2f}\")\n",
        "\n",
        "# Compare the average scores and print the conclusion\n",
        "if average_exam_score_more_than_5_hours > average_exam_score_5_hours_or_less:\n",
        "  print(\"Conclusion: Students who study more than 5 hours per day have higher exam scores on average.\")\n",
        "else:\n",
        "  print(\"Conclusion: Students who study more than 5 hours per day do not have higher exam scores on average.\")"
      ],
      "metadata": {
        "colab": {
          "base_uri": "https://localhost:8080/"
        },
        "id": "_4QMmfNE4Kgv",
        "outputId": "db491dd4-5611-4362-ec71-05e954242d1d"
      },
      "execution_count": 23,
      "outputs": [
        {
          "output_type": "stream",
          "name": "stdout",
          "text": [
            "Average exam score for students studying more than 5 hours per day: 91.12\n",
            "Average exam score for students studying 5 hours or less per day: 65.67\n",
            "Conclusion: Students who study more than 5 hours per day have higher exam scores on average.\n"
          ]
        }
      ]
    },
    {
      "cell_type": "markdown",
      "source": [
        "7. Use \"Explain code\" for the code you produced for Question 6 and summarize in your own words to show that you understood the code Gemini produced. Please create a text cell below to answer this question. (0.5 point)"
      ],
      "metadata": {
        "id": "QT5H-jYfupn-"
      }
    },
    {
      "cell_type": "markdown",
      "source": [
        "The code snippet aims to investigate whether students who study more than 5 hours per day tend to have higher exam scores compared to those who study 5 hours or less. This code divides the student data into two categories: those who hit the books for over 5 hours a day and those who study 5 hours or less. It then figures out the average exam score for each group. The code then compares these two averages. If the average score is higher for the students who study more than 5 hours, it says so; otherwise, it says they don't have higher scores on average. Essentially, it's checking if putting in more than 5 hours of study time generally leads to better test results in this dataset."
      ],
      "metadata": {
        "id": "AvA0BZC35nTU"
      }
    },
    {
      "cell_type": "markdown",
      "source": [
        "8. The codes produced to answer the questions use \"vectorization\"? Please justify your answer with an example. Please create a text cell below to answer this question. (0.5 point)"
      ],
      "metadata": {
        "id": "dfF8PaJavTzI"
      }
    },
    {
      "cell_type": "markdown",
      "source": [
        "Yes, the codes produced to answer questions often utilize \"vectorization,\" particularly when dealing with numerical computations or data manipulation.\n",
        "Consider a scenario where you have two lists of numbers, and you want to add them element-wise to create a new list containing the sums.\n",
        "Let's say you have the following Python lists:\n",
        "In this approach, we explicitly iterate through the elements of the lists using a for loop. For each index i, we access the corresponding elements from list1 and list2, perform the addition, and append the result to the result list. This is a scalar operation performed repeatedly.\n",
        "Now, let's use the NumPy library, which is designed for efficient numerical operations using vectorized computations:\n",
        "In this vectorized approach, we first convert the Python lists into NumPy arrays. Then, when we perform the addition array1 + array2, NumPy doesn't perform the addition element by element in an explicit loop in Python. Instead, it leverages highly optimized, low-level implementations (often written in C or Fortran) to perform the operation on the entire arrays simultaneously. This \"vectorized\" operation treats the arrays as single entities for the addition."
      ],
      "metadata": {
        "id": "6jVJJc1V47oV"
      }
    },
    {
      "cell_type": "markdown",
      "source": [
        "Count how many students study more than 6 hours per day. Please create a code cell below this to answer the question.(0.5 point)"
      ],
      "metadata": {
        "id": "vHQLG2nkOVaM"
      }
    },
    {
      "cell_type": "code",
      "source": [
        "df['study_hours_per_day']"
      ],
      "metadata": {
        "colab": {
          "base_uri": "https://localhost:8080/",
          "height": 453
        },
        "id": "Z31YvDMEOV5-",
        "outputId": "46643a55-323a-4f1f-d36d-7f6920a1f503"
      },
      "execution_count": null,
      "outputs": [
        {
          "output_type": "execute_result",
          "data": {
            "text/plain": [
              "0      0.0\n",
              "1      6.9\n",
              "2      1.4\n",
              "3      1.0\n",
              "4      5.0\n",
              "      ... \n",
              "995    2.6\n",
              "996    2.9\n",
              "997    3.0\n",
              "998    5.4\n",
              "999    4.3\n",
              "Name: study_hours_per_day, Length: 909, dtype: float64"
            ],
            "text/html": [
              "<div>\n",
              "<style scoped>\n",
              "    .dataframe tbody tr th:only-of-type {\n",
              "        vertical-align: middle;\n",
              "    }\n",
              "\n",
              "    .dataframe tbody tr th {\n",
              "        vertical-align: top;\n",
              "    }\n",
              "\n",
              "    .dataframe thead th {\n",
              "        text-align: right;\n",
              "    }\n",
              "</style>\n",
              "<table border=\"1\" class=\"dataframe\">\n",
              "  <thead>\n",
              "    <tr style=\"text-align: right;\">\n",
              "      <th></th>\n",
              "      <th>study_hours_per_day</th>\n",
              "    </tr>\n",
              "  </thead>\n",
              "  <tbody>\n",
              "    <tr>\n",
              "      <th>0</th>\n",
              "      <td>0.0</td>\n",
              "    </tr>\n",
              "    <tr>\n",
              "      <th>1</th>\n",
              "      <td>6.9</td>\n",
              "    </tr>\n",
              "    <tr>\n",
              "      <th>2</th>\n",
              "      <td>1.4</td>\n",
              "    </tr>\n",
              "    <tr>\n",
              "      <th>3</th>\n",
              "      <td>1.0</td>\n",
              "    </tr>\n",
              "    <tr>\n",
              "      <th>4</th>\n",
              "      <td>5.0</td>\n",
              "    </tr>\n",
              "    <tr>\n",
              "      <th>...</th>\n",
              "      <td>...</td>\n",
              "    </tr>\n",
              "    <tr>\n",
              "      <th>995</th>\n",
              "      <td>2.6</td>\n",
              "    </tr>\n",
              "    <tr>\n",
              "      <th>996</th>\n",
              "      <td>2.9</td>\n",
              "    </tr>\n",
              "    <tr>\n",
              "      <th>997</th>\n",
              "      <td>3.0</td>\n",
              "    </tr>\n",
              "    <tr>\n",
              "      <th>998</th>\n",
              "      <td>5.4</td>\n",
              "    </tr>\n",
              "    <tr>\n",
              "      <th>999</th>\n",
              "      <td>4.3</td>\n",
              "    </tr>\n",
              "  </tbody>\n",
              "</table>\n",
              "<p>909 rows × 1 columns</p>\n",
              "</div><br><label><b>dtype:</b> float64</label>"
            ]
          },
          "metadata": {},
          "execution_count": 10
        }
      ]
    },
    {
      "cell_type": "code",
      "source": [
        "df['study_hours_per_day'] > 6"
      ],
      "metadata": {
        "colab": {
          "base_uri": "https://localhost:8080/",
          "height": 453
        },
        "id": "WSQzN9lXOcWL",
        "outputId": "bc01ecf0-1824-40dd-9476-72389981f4b4"
      },
      "execution_count": null,
      "outputs": [
        {
          "output_type": "execute_result",
          "data": {
            "text/plain": [
              "0      False\n",
              "1       True\n",
              "2      False\n",
              "3      False\n",
              "4      False\n",
              "       ...  \n",
              "995    False\n",
              "996    False\n",
              "997    False\n",
              "998    False\n",
              "999    False\n",
              "Name: study_hours_per_day, Length: 909, dtype: bool"
            ],
            "text/html": [
              "<div>\n",
              "<style scoped>\n",
              "    .dataframe tbody tr th:only-of-type {\n",
              "        vertical-align: middle;\n",
              "    }\n",
              "\n",
              "    .dataframe tbody tr th {\n",
              "        vertical-align: top;\n",
              "    }\n",
              "\n",
              "    .dataframe thead th {\n",
              "        text-align: right;\n",
              "    }\n",
              "</style>\n",
              "<table border=\"1\" class=\"dataframe\">\n",
              "  <thead>\n",
              "    <tr style=\"text-align: right;\">\n",
              "      <th></th>\n",
              "      <th>study_hours_per_day</th>\n",
              "    </tr>\n",
              "  </thead>\n",
              "  <tbody>\n",
              "    <tr>\n",
              "      <th>0</th>\n",
              "      <td>False</td>\n",
              "    </tr>\n",
              "    <tr>\n",
              "      <th>1</th>\n",
              "      <td>True</td>\n",
              "    </tr>\n",
              "    <tr>\n",
              "      <th>2</th>\n",
              "      <td>False</td>\n",
              "    </tr>\n",
              "    <tr>\n",
              "      <th>3</th>\n",
              "      <td>False</td>\n",
              "    </tr>\n",
              "    <tr>\n",
              "      <th>4</th>\n",
              "      <td>False</td>\n",
              "    </tr>\n",
              "    <tr>\n",
              "      <th>...</th>\n",
              "      <td>...</td>\n",
              "    </tr>\n",
              "    <tr>\n",
              "      <th>995</th>\n",
              "      <td>False</td>\n",
              "    </tr>\n",
              "    <tr>\n",
              "      <th>996</th>\n",
              "      <td>False</td>\n",
              "    </tr>\n",
              "    <tr>\n",
              "      <th>997</th>\n",
              "      <td>False</td>\n",
              "    </tr>\n",
              "    <tr>\n",
              "      <th>998</th>\n",
              "      <td>False</td>\n",
              "    </tr>\n",
              "    <tr>\n",
              "      <th>999</th>\n",
              "      <td>False</td>\n",
              "    </tr>\n",
              "  </tbody>\n",
              "</table>\n",
              "<p>909 rows × 1 columns</p>\n",
              "</div><br><label><b>dtype:</b> bool</label>"
            ]
          },
          "metadata": {},
          "execution_count": 11
        }
      ]
    },
    {
      "cell_type": "code",
      "source": [
        "# prompt: Count how many students study more than 6 hours per day.\n",
        "\n",
        "(df['study_hours_per_day'] > 6).sum()"
      ],
      "metadata": {
        "colab": {
          "base_uri": "https://localhost:8080/"
        },
        "id": "XVH_GdByOwiX",
        "outputId": "fbfae799-8702-4270-f0d4-d20bb12aa4a5"
      },
      "execution_count": null,
      "outputs": [
        {
          "output_type": "execute_result",
          "data": {
            "text/plain": [
              "np.int64(40)"
            ]
          },
          "metadata": {},
          "execution_count": 12
        }
      ]
    },
    {
      "cell_type": "code",
      "source": [
        "# prompt: Calculate what percentage of students study less than 2 hours per day.\n",
        "\n",
        "# Filter students who study less than 2 hours per day\n",
        "students_less_than_2_hours = df[df['study_hours_per_day'] < 2]\n",
        "\n",
        "# Count the number of students who study less than 2 hours per day\n",
        "num_students_less_than_2_hours = len(students_less_than_2_hours)\n",
        "\n",
        "# Get the total number of students\n",
        "total_students = len(df)\n",
        "\n",
        "# Calculate the percentage\n",
        "percentage_less_than_2_hours = (num_students_less_than_2_hours / total_students) * 100\n",
        "\n",
        "print(f\"Percentage of students who study less than 2 hours per day: {percentage_less_than_2_hours:.2f}%\")\n"
      ],
      "metadata": {
        "colab": {
          "base_uri": "https://localhost:8080/"
        },
        "id": "JluI2DD6Pb4E",
        "outputId": "c792db26-9104-41df-8c6b-6b2bc7d263b1"
      },
      "execution_count": null,
      "outputs": [
        {
          "output_type": "stream",
          "name": "stdout",
          "text": [
            "Percentage of students who study less than 2 hours per day: 13.53%\n"
          ]
        }
      ]
    },
    {
      "cell_type": "code",
      "source": [
        "df['study_hours_per_day'] < 2"
      ],
      "metadata": {
        "colab": {
          "base_uri": "https://localhost:8080/",
          "height": 453
        },
        "id": "wSvsi4ESPk32",
        "outputId": "b69aed15-3bbd-4b31-d4fc-117f144d72f5"
      },
      "execution_count": null,
      "outputs": [
        {
          "output_type": "execute_result",
          "data": {
            "text/plain": [
              "0       True\n",
              "1      False\n",
              "2       True\n",
              "3       True\n",
              "4      False\n",
              "       ...  \n",
              "995    False\n",
              "996    False\n",
              "997    False\n",
              "998    False\n",
              "999    False\n",
              "Name: study_hours_per_day, Length: 909, dtype: bool"
            ],
            "text/html": [
              "<div>\n",
              "<style scoped>\n",
              "    .dataframe tbody tr th:only-of-type {\n",
              "        vertical-align: middle;\n",
              "    }\n",
              "\n",
              "    .dataframe tbody tr th {\n",
              "        vertical-align: top;\n",
              "    }\n",
              "\n",
              "    .dataframe thead th {\n",
              "        text-align: right;\n",
              "    }\n",
              "</style>\n",
              "<table border=\"1\" class=\"dataframe\">\n",
              "  <thead>\n",
              "    <tr style=\"text-align: right;\">\n",
              "      <th></th>\n",
              "      <th>study_hours_per_day</th>\n",
              "    </tr>\n",
              "  </thead>\n",
              "  <tbody>\n",
              "    <tr>\n",
              "      <th>0</th>\n",
              "      <td>True</td>\n",
              "    </tr>\n",
              "    <tr>\n",
              "      <th>1</th>\n",
              "      <td>False</td>\n",
              "    </tr>\n",
              "    <tr>\n",
              "      <th>2</th>\n",
              "      <td>True</td>\n",
              "    </tr>\n",
              "    <tr>\n",
              "      <th>3</th>\n",
              "      <td>True</td>\n",
              "    </tr>\n",
              "    <tr>\n",
              "      <th>4</th>\n",
              "      <td>False</td>\n",
              "    </tr>\n",
              "    <tr>\n",
              "      <th>...</th>\n",
              "      <td>...</td>\n",
              "    </tr>\n",
              "    <tr>\n",
              "      <th>995</th>\n",
              "      <td>False</td>\n",
              "    </tr>\n",
              "    <tr>\n",
              "      <th>996</th>\n",
              "      <td>False</td>\n",
              "    </tr>\n",
              "    <tr>\n",
              "      <th>997</th>\n",
              "      <td>False</td>\n",
              "    </tr>\n",
              "    <tr>\n",
              "      <th>998</th>\n",
              "      <td>False</td>\n",
              "    </tr>\n",
              "    <tr>\n",
              "      <th>999</th>\n",
              "      <td>False</td>\n",
              "    </tr>\n",
              "  </tbody>\n",
              "</table>\n",
              "<p>909 rows × 1 columns</p>\n",
              "</div><br><label><b>dtype:</b> bool</label>"
            ]
          },
          "metadata": {},
          "execution_count": 14
        }
      ]
    },
    {
      "cell_type": "code",
      "source": [
        "(df['study_hours_per_day'] < 2).sum()"
      ],
      "metadata": {
        "colab": {
          "base_uri": "https://localhost:8080/"
        },
        "id": "p29zQvIUPoXA",
        "outputId": "3b1c2061-5947-48af-ff30-e1218a800f04"
      },
      "execution_count": null,
      "outputs": [
        {
          "output_type": "execute_result",
          "data": {
            "text/plain": [
              "np.int64(123)"
            ]
          },
          "metadata": {},
          "execution_count": 15
        }
      ]
    },
    {
      "cell_type": "code",
      "source": [
        "# prompt: Do students who study more than 5 hours per day have higher exam scores on average?\n",
        "\n",
        "# Separate students into two groups: those who study more than 5 hours and those who don't\n",
        "students_more_than_5_hours = df[df['study_hours_per_day'] > 5]\n",
        "students_5_hours_or_less = df[df['study_hours_per_day'] <= 5]\n",
        "\n",
        "# Calculate the average exam score for each group\n",
        "average_score_more_than_5_hours = students_more_than_5_hours['exam_score'].mean()\n",
        "average_score_5_hours_or_less = students_5_hours_or_less['exam_score'].mean()\n",
        "\n",
        "print(f\"Average exam score for students studying more than 5 hours per day: {average_score_more_than_5_hours:.2f}\")\n",
        "print(f\"Average exam score for students studying 5 hours or less per day: {average_score_5_hours_or_less:.2f}\")\n",
        "\n",
        "# Compare the averages and print the conclusion\n",
        "if average_score_more_than_5_hours > average_score_5_hours_or_less:\n",
        "    print(\"Students who study more than 5 hours per day have higher exam scores on average.\")\n",
        "else:\n",
        "    print(\"Students who study more than 5 hours per day do not have higher exam scores on average.\")\n"
      ],
      "metadata": {
        "colab": {
          "base_uri": "https://localhost:8080/"
        },
        "id": "8tRdxhP6QTL2",
        "outputId": "4a19dd79-46a1-4c07-cf1f-c827d4ec149a"
      },
      "execution_count": null,
      "outputs": [
        {
          "output_type": "stream",
          "name": "stdout",
          "text": [
            "Average exam score for students studying more than 5 hours per day: 91.12\n",
            "Average exam score for students studying 5 hours or less per day: 65.67\n",
            "Students who study more than 5 hours per day have higher exam scores on average.\n"
          ]
        }
      ]
    }
  ]
}